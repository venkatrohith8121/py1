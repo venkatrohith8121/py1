{
 "cells": [
  {
   "cell_type": "code",
   "execution_count": 1,
   "id": "fe5c7ee5",
   "metadata": {},
   "outputs": [
    {
     "name": "stdout",
     "output_type": "stream",
     "text": [
      "3\n"
     ]
    },
    {
     "data": {
      "text/plain": [
       "30"
      ]
     },
     "execution_count": 1,
     "metadata": {},
     "output_type": "execute_result"
    }
   ],
   "source": [
    "def add(a,b):\n",
    "    return a+b\n",
    "print(add(1,2))\n",
    "add(10,20)"
   ]
  },
  {
   "cell_type": "code",
   "execution_count": 2,
   "id": "f8dfe5b9",
   "metadata": {},
   "outputs": [
    {
     "ename": "TypeError",
     "evalue": "unsupported operand type(s) for +: 'int' and 'str'",
     "output_type": "error",
     "traceback": [
      "\u001b[1;31m---------------------------------------------------------------------------\u001b[0m",
      "\u001b[1;31mTypeError\u001b[0m                                 Traceback (most recent call last)",
      "\u001b[1;32m~\\AppData\\Local\\Temp\\ipykernel_20396\\3926779863.py\u001b[0m in \u001b[0;36m<module>\u001b[1;34m\u001b[0m\n\u001b[0;32m      1\u001b[0m \u001b[1;32mdef\u001b[0m \u001b[0madd\u001b[0m\u001b[1;33m(\u001b[0m\u001b[0ma\u001b[0m\u001b[1;33m,\u001b[0m\u001b[0mb\u001b[0m\u001b[1;33m)\u001b[0m\u001b[1;33m:\u001b[0m\u001b[1;33m\u001b[0m\u001b[1;33m\u001b[0m\u001b[0m\n\u001b[0;32m      2\u001b[0m     \u001b[1;32mreturn\u001b[0m \u001b[0ma\u001b[0m\u001b[1;33m+\u001b[0m\u001b[0mb\u001b[0m\u001b[1;33m\u001b[0m\u001b[1;33m\u001b[0m\u001b[0m\n\u001b[1;32m----> 3\u001b[1;33m \u001b[0madd\u001b[0m\u001b[1;33m(\u001b[0m\u001b[1;36m10\u001b[0m\u001b[1;33m,\u001b[0m\u001b[1;34m'rohi'\u001b[0m\u001b[1;33m)\u001b[0m\u001b[1;33m\u001b[0m\u001b[1;33m\u001b[0m\u001b[0m\n\u001b[0m",
      "\u001b[1;32m~\\AppData\\Local\\Temp\\ipykernel_20396\\3926779863.py\u001b[0m in \u001b[0;36madd\u001b[1;34m(a, b)\u001b[0m\n\u001b[0;32m      1\u001b[0m \u001b[1;32mdef\u001b[0m \u001b[0madd\u001b[0m\u001b[1;33m(\u001b[0m\u001b[0ma\u001b[0m\u001b[1;33m,\u001b[0m\u001b[0mb\u001b[0m\u001b[1;33m)\u001b[0m\u001b[1;33m:\u001b[0m\u001b[1;33m\u001b[0m\u001b[1;33m\u001b[0m\u001b[0m\n\u001b[1;32m----> 2\u001b[1;33m     \u001b[1;32mreturn\u001b[0m \u001b[0ma\u001b[0m\u001b[1;33m+\u001b[0m\u001b[0mb\u001b[0m\u001b[1;33m\u001b[0m\u001b[1;33m\u001b[0m\u001b[0m\n\u001b[0m\u001b[0;32m      3\u001b[0m \u001b[0madd\u001b[0m\u001b[1;33m(\u001b[0m\u001b[1;36m10\u001b[0m\u001b[1;33m,\u001b[0m\u001b[1;34m'rohi'\u001b[0m\u001b[1;33m)\u001b[0m\u001b[1;33m\u001b[0m\u001b[1;33m\u001b[0m\u001b[0m\n",
      "\u001b[1;31mTypeError\u001b[0m: unsupported operand type(s) for +: 'int' and 'str'"
     ]
    }
   ],
   "source": [
    "def add(a,b):\n",
    "    return a+b\n",
    "add(10,'rohi')"
   ]
  },
  {
   "cell_type": "code",
   "execution_count": 3,
   "id": "a5a8d393",
   "metadata": {},
   "outputs": [
    {
     "name": "stdout",
     "output_type": "stream",
     "text": [
      "300\n",
      "300\n"
     ]
    }
   ],
   "source": [
    "# by changing the positional arguments we will get diff outputs\n",
    "#formal arguments\n",
    "#         |\n",
    "def calc(a,b):\n",
    "    \n",
    "    print(a+b)\n",
    "    \n",
    "# positional aruguments\n",
    "#        |\n",
    "calc(100,200)\n",
    "calc(200,100)"
   ]
  },
  {
   "cell_type": "code",
   "execution_count": 4,
   "id": "0f6638c6",
   "metadata": {},
   "outputs": [
    {
     "name": "stdout",
     "output_type": "stream",
     "text": [
      "-100\n",
      "100\n"
     ]
    }
   ],
   "source": [
    "# by changing the positional arguments we will get diff outputs\n",
    "#formal arguments\n",
    "#         |\n",
    "def calc(a,b):\n",
    "    print(a-b)\n",
    "    \n",
    "# positional aruguments\n",
    "#        |\n",
    "calc(100,200)\n",
    "calc(200,100)"
   ]
  },
  {
   "cell_type": "code",
   "execution_count": 5,
   "id": "28b0b8a7",
   "metadata": {},
   "outputs": [
    {
     "name": "stdout",
     "output_type": "stream",
     "text": [
      "60\n",
      "31\n",
      "4\n"
     ]
    }
   ],
   "source": [
    "# default arguments\n",
    "# if we didn't porvide any value it takes the default value\n",
    "def calc(a,b,c=1):\n",
    "    print(a+b+c)\n",
    "    \n",
    "calc(10,20,30)\n",
    "calc(10,20)\n",
    "calc(1,2)"
   ]
  },
  {
   "cell_type": "code",
   "execution_count": 6,
   "id": "e4b6e4d9",
   "metadata": {},
   "outputs": [
    {
     "name": "stdout",
     "output_type": "stream",
     "text": [
      "301\n",
      "301\n"
     ]
    }
   ],
   "source": [
    "# by changing the position of the arguments also the output will not be changed\n",
    "# key word arguments\n",
    "def clac(a,b):\n",
    "    print(a-b)\n",
    "calc(a=100,b=200)\n",
    "calc(b=200,a=100)"
   ]
  },
  {
   "cell_type": "code",
   "execution_count": 7,
   "id": "96ff435b",
   "metadata": {},
   "outputs": [
    {
     "name": "stdout",
     "output_type": "stream",
     "text": [
      "()\n",
      "(10,)\n",
      "(10, 20)\n",
      "(10, 20, 30)\n",
      "(10, 20, 30, 40)\n",
      "(10, 20, 30, 40, 50)\n"
     ]
    }
   ],
   "source": [
    "#variable length arguments \n",
    "def calc(*a):\n",
    "    print(a)\n",
    "calc()\n",
    "calc(10)\n",
    "calc(10,20)\n",
    "calc(10,20,30)\n",
    "calc(10,20,30,40)\n",
    "calc(10,20,30,40,50)"
   ]
  },
  {
   "cell_type": "code",
   "execution_count": 8,
   "id": "520cdcf8",
   "metadata": {},
   "outputs": [
    {
     "name": "stdout",
     "output_type": "stream",
     "text": [
      "0\n",
      "10\n",
      "30\n",
      "60\n",
      "100\n",
      "150\n"
     ]
    }
   ],
   "source": [
    "#variable length arguments \n",
    "def calc(*a):\n",
    "    print(sum(a))\n",
    "calc()\n",
    "calc(10)\n",
    "calc(10,20)\n",
    "calc(10,20,30)\n",
    "calc(10,20,30,40)\n",
    "calc(10,20,30,40,50)"
   ]
  },
  {
   "cell_type": "code",
   "execution_count": 9,
   "id": "07d05c7a",
   "metadata": {},
   "outputs": [
    {
     "name": "stdout",
     "output_type": "stream",
     "text": [
      "gm\n",
      "ga\n"
     ]
    },
    {
     "ename": "NameError",
     "evalue": "name 'inner' is not defined",
     "output_type": "error",
     "traceback": [
      "\u001b[1;31m---------------------------------------------------------------------------\u001b[0m",
      "\u001b[1;31mNameError\u001b[0m                                 Traceback (most recent call last)",
      "\u001b[1;32m~\\AppData\\Local\\Temp\\ipykernel_20396\\2603927388.py\u001b[0m in \u001b[0;36m<module>\u001b[1;34m\u001b[0m\n\u001b[0;32m      6\u001b[0m     \u001b[0minner\u001b[0m\u001b[1;33m(\u001b[0m\u001b[1;33m)\u001b[0m\u001b[1;33m\u001b[0m\u001b[1;33m\u001b[0m\u001b[0m\n\u001b[0;32m      7\u001b[0m \u001b[0mouter\u001b[0m\u001b[1;33m(\u001b[0m\u001b[1;33m)\u001b[0m\u001b[1;33m\u001b[0m\u001b[1;33m\u001b[0m\u001b[0m\n\u001b[1;32m----> 8\u001b[1;33m \u001b[0minner\u001b[0m\u001b[1;33m(\u001b[0m\u001b[1;33m)\u001b[0m \u001b[1;31m#it will show the name error\u001b[0m\u001b[1;33m\u001b[0m\u001b[1;33m\u001b[0m\u001b[0m\n\u001b[0m",
      "\u001b[1;31mNameError\u001b[0m: name 'inner' is not defined"
     ]
    }
   ],
   "source": [
    "# INNER FUNCTION\n",
    "def outer():\n",
    "    print(\"gm\")\n",
    "    def inner():\n",
    "        print(\"ga\")\n",
    "    inner()\n",
    "outer()\n",
    "inner() #it will show the name error \n"
   ]
  },
  {
   "cell_type": "code",
   "execution_count": 10,
   "id": "5b4312e3",
   "metadata": {},
   "outputs": [
    {
     "name": "stdout",
     "output_type": "stream",
     "text": [
      "outer function\n",
      "inner function\n",
      "inner function\n"
     ]
    }
   ],
   "source": [
    "def outer():\n",
    "    print(\"outer function\")\n",
    "    def inner():\n",
    "        print('inner function')\n",
    "    inner()\n",
    "    inner()    \n",
    "outer()"
   ]
  },
  {
   "cell_type": "code",
   "execution_count": 11,
   "id": "ec604e17",
   "metadata": {},
   "outputs": [
    {
     "name": "stdout",
     "output_type": "stream",
     "text": [
      "outer function\n",
      "None\n"
     ]
    }
   ],
   "source": [
    "def outer():\n",
    "    print(\"outer function\")\n",
    "    def inner():\n",
    "        print('inner function')\n",
    "        return 100\n",
    "x=outer()\n",
    "print(x)"
   ]
  },
  {
   "cell_type": "code",
   "execution_count": 12,
   "id": "34eb6fc9",
   "metadata": {},
   "outputs": [
    {
     "name": "stdout",
     "output_type": "stream",
     "text": [
      "outer function\n",
      "inner function\n",
      "inner function\n"
     ]
    }
   ],
   "source": [
    "# calling inner function without outer function\n",
    "def outer():\n",
    "    print(\"outer function\")\n",
    "    def inner():\n",
    "        print(\"inner function\")\n",
    "    return inner\n",
    "inner=outer()\n",
    "inner()\n",
    "inner()"
   ]
  },
  {
   "cell_type": "code",
   "execution_count": 13,
   "id": "253da8bf",
   "metadata": {},
   "outputs": [
    {
     "name": "stdout",
     "output_type": "stream",
     "text": [
      "101\n",
      "<class 'function'>\n"
     ]
    }
   ],
   "source": [
    "def add (x):\n",
    "    return x+1\n",
    "print(add(100))\n",
    "print(type(add))"
   ]
  },
  {
   "cell_type": "code",
   "execution_count": 14,
   "id": "1b7c20f7",
   "metadata": {},
   "outputs": [
    {
     "name": "stdout",
     "output_type": "stream",
     "text": [
      "101\n"
     ]
    }
   ],
   "source": [
    "# for the above function printing by using the lamda function\n",
    "# lambda means no funtion name no def keyword,no return key word\n",
    "# |function name           |arguments  |function statements \n",
    "add=          lambda       x:         x+1\n",
    "print(add(100))"
   ]
  },
  {
   "cell_type": "code",
   "execution_count": 15,
   "id": "d3330f63",
   "metadata": {},
   "outputs": [
    {
     "name": "stdout",
     "output_type": "stream",
     "text": [
      "30\n"
     ]
    }
   ],
   "source": [
    "add=lambda a,b:a+b\n",
    "print(add(10,20))"
   ]
  },
  {
   "cell_type": "code",
   "execution_count": 16,
   "id": "9c676e47",
   "metadata": {},
   "outputs": [],
   "source": [
    "# map and fliter are also same as the input,sum,type functions\n",
    "# syntax: map(function,sequence)\n",
    "# syntax: filter(function,sequence)"
   ]
  },
  {
   "cell_type": "code",
   "execution_count": 24,
   "id": "5688b77d",
   "metadata": {},
   "outputs": [
    {
     "name": "stdout",
     "output_type": "stream",
     "text": [
      "36\n",
      "<map object at 0x000001D3E1ADD908>\n",
      "<class 'map'>\n",
      "[36, 41, 46, 51, 56]\n"
     ]
    }
   ],
   "source": [
    "# map executing the provided function for every item in the sequence\n",
    "marks=[35,40,45,50,55]\n",
    "def addplus(marks):\n",
    "    return marks+1\n",
    "\n",
    "print(addplus(35))\n",
    "m=map(addplus,marks)\n",
    "print(m)\n",
    "print(type(m))\n",
    "print(list(m))"
   ]
  },
  {
   "cell_type": "code",
   "execution_count": 23,
   "id": "b552ef35",
   "metadata": {},
   "outputs": [
    {
     "name": "stdout",
     "output_type": "stream",
     "text": [
      "[11, 12, 13, 14, 15]\n"
     ]
    }
   ],
   "source": [
    "print(list(map(lambda m:m+1,[10,11,12,13,14])))"
   ]
  },
  {
   "cell_type": "code",
   "execution_count": 32,
   "id": "9bdabb44",
   "metadata": {},
   "outputs": [
    {
     "name": "stdout",
     "output_type": "stream",
     "text": [
      "inner function\n"
     ]
    }
   ],
   "source": [
    "def outer():\n",
    "    print(\"Outer Fun\")\n",
    "    \n",
    "    def inner():\n",
    "        print(\"Inner\")\n",
    "        \n",
    "\n",
    "        \n",
    "inner()"
   ]
  },
  {
   "cell_type": "code",
   "execution_count": null,
   "id": "cf58cde3",
   "metadata": {},
   "outputs": [],
   "source": []
  },
  {
   "cell_type": "code",
   "execution_count": null,
   "id": "41a56f29",
   "metadata": {},
   "outputs": [],
   "source": []
  }
 ],
 "metadata": {
  "kernelspec": {
   "display_name": "Python 3 (ipykernel)",
   "language": "python",
   "name": "python3"
  },
  "language_info": {
   "codemirror_mode": {
    "name": "ipython",
    "version": 3
   },
   "file_extension": ".py",
   "mimetype": "text/x-python",
   "name": "python",
   "nbconvert_exporter": "python",
   "pygments_lexer": "ipython3",
   "version": "3.7.6"
  }
 },
 "nbformat": 4,
 "nbformat_minor": 5
}
