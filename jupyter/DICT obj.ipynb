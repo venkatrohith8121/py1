{
 "cells": [
  {
   "cell_type": "code",
   "execution_count": 1,
   "id": "e68dae7c",
   "metadata": {},
   "outputs": [
    {
     "name": "stdout",
     "output_type": "stream",
     "text": [
      "<class 'dict'>\n"
     ]
    }
   ],
   "source": [
    "d1={}\n",
    "print(type(d1))"
   ]
  },
  {
   "cell_type": "code",
   "execution_count": 2,
   "id": "711de02f",
   "metadata": {},
   "outputs": [
    {
     "name": "stdout",
     "output_type": "stream",
     "text": [
      "{'eid': 101, 'ename': 'ROHI', 'esal': 45000.45, 'avail': True}\n"
     ]
    }
   ],
   "source": [
    "emp={\n",
    "    'eid':101,\n",
    "    'ename':'ROHI',\n",
    "    'esal':45000.45,\n",
    "    'avail':True\n",
    "}\n",
    "print(emp)"
   ]
  },
  {
   "cell_type": "code",
   "execution_count": 3,
   "id": "687ce3e0",
   "metadata": {},
   "outputs": [
    {
     "name": "stdout",
     "output_type": "stream",
     "text": [
      "{'eid': 104}\n"
     ]
    }
   ],
   "source": [
    "emp={\n",
    "    'eid':101,  \n",
    "    'eid':102,  \n",
    "    'eid':103,   \n",
    "    'eid':104,\n",
    "}\n",
    "# duplicate elements r not allowed but not duplicate values\n",
    "print(emp)"
   ]
  },
  {
   "cell_type": "code",
   "execution_count": 4,
   "id": "0694a59e",
   "metadata": {},
   "outputs": [
    {
     "ename": "KeyError",
     "evalue": "0",
     "output_type": "error",
     "traceback": [
      "\u001b[1;31m---------------------------------------------------------------------------\u001b[0m",
      "\u001b[1;31mKeyError\u001b[0m                                  Traceback (most recent call last)",
      "\u001b[1;32m~\\AppData\\Local\\Temp\\ipykernel_18084\\1930911071.py\u001b[0m in \u001b[0;36m<module>\u001b[1;34m\u001b[0m\n\u001b[0;32m      5\u001b[0m     \u001b[1;34m'avail'\u001b[0m\u001b[1;33m:\u001b[0m\u001b[1;32mTrue\u001b[0m\u001b[1;33m\u001b[0m\u001b[1;33m\u001b[0m\u001b[0m\n\u001b[0;32m      6\u001b[0m }\n\u001b[1;32m----> 7\u001b[1;33m \u001b[0mprint\u001b[0m\u001b[1;33m(\u001b[0m\u001b[0memp\u001b[0m\u001b[1;33m[\u001b[0m\u001b[1;36m0\u001b[0m\u001b[1;33m]\u001b[0m\u001b[1;33m)\u001b[0m\u001b[1;33m\u001b[0m\u001b[1;33m\u001b[0m\u001b[0m\n\u001b[0m",
      "\u001b[1;31mKeyError\u001b[0m: 0"
     ]
    }
   ],
   "source": [
    "emp={\n",
    "    'eid':101,\n",
    "    'ename':'ROHI',\n",
    "    'esal':45000.45,\n",
    "    'avail':True\n",
    "}\n",
    "print(emp[0])"
   ]
  },
  {
   "cell_type": "code",
   "execution_count": 5,
   "id": "cda47c8d",
   "metadata": {},
   "outputs": [
    {
     "name": "stdout",
     "output_type": "stream",
     "text": [
      "101\n"
     ]
    }
   ],
   "source": [
    "emp={\n",
    "    'eid':101,\n",
    "    'ename':'ROHI',\n",
    "    'esal':45000.45,\n",
    "    'avail':True\n",
    "}\n",
    "print(emp['eid'])\n",
    "# we can keys to address the key values"
   ]
  },
  {
   "cell_type": "code",
   "execution_count": 6,
   "id": "12d55328",
   "metadata": {},
   "outputs": [
    {
     "name": "stdout",
     "output_type": "stream",
     "text": [
      "101\n"
     ]
    }
   ],
   "source": [
    "emp={\n",
    "    'eid':101,\n",
    "    'ename':'ROHI',\n",
    "    'esal':45000.45,\n",
    "    'avail':True\n",
    "}\n",
    "print(emp.get('eid'))\n",
    "# by using get method "
   ]
  },
  {
   "cell_type": "code",
   "execution_count": 7,
   "id": "08d86d9e",
   "metadata": {},
   "outputs": [
    {
     "name": "stdout",
     "output_type": "stream",
     "text": [
      "eid\n",
      "ename\n",
      "esal\n",
      "avail\n"
     ]
    }
   ],
   "source": [
    "emp={\n",
    "    'eid':101,\n",
    "    'ename':'ROHI',\n",
    "    'esal':45000.45,\n",
    "    'avail':True\n",
    "}\n",
    "# printing all keys\n",
    "for key in emp:\n",
    "    print(key)"
   ]
  },
  {
   "cell_type": "code",
   "execution_count": 8,
   "id": "70838aa7",
   "metadata": {},
   "outputs": [
    {
     "name": "stdout",
     "output_type": "stream",
     "text": [
      "101\n",
      "ROHI\n",
      "45000.45\n",
      "True\n"
     ]
    }
   ],
   "source": [
    "emp={\n",
    "    'eid':101,\n",
    "    'ename':'ROHI',\n",
    "    'esal':45000.45,\n",
    "    'avail':True\n",
    "}\n",
    "# printing all values\n",
    "for value in emp.values():\n",
    "    print(value)"
   ]
  },
  {
   "cell_type": "code",
   "execution_count": 9,
   "id": "8ea50e8c",
   "metadata": {},
   "outputs": [
    {
     "name": "stdout",
     "output_type": "stream",
     "text": [
      "eid 101\n",
      "ename ROHI\n",
      "esal 45000.45\n",
      "avail True\n"
     ]
    }
   ],
   "source": [
    "emp={\n",
    "    'eid':101,\n",
    "    'ename':'ROHI',\n",
    "    'esal':45000.45,\n",
    "    'avail':True\n",
    "}\n",
    "# printing all keys and values\n",
    "for k,v in emp.items():\n",
    "    print(k,v)"
   ]
  },
  {
   "cell_type": "code",
   "execution_count": null,
   "id": "49fd4408",
   "metadata": {},
   "outputs": [],
   "source": []
  }
 ],
 "metadata": {
  "kernelspec": {
   "display_name": "Python 3 (ipykernel)",
   "language": "python",
   "name": "python3"
  },
  "language_info": {
   "codemirror_mode": {
    "name": "ipython",
    "version": 3
   },
   "file_extension": ".py",
   "mimetype": "text/x-python",
   "name": "python",
   "nbconvert_exporter": "python",
   "pygments_lexer": "ipython3",
   "version": "3.7.6"
  }
 },
 "nbformat": 4,
 "nbformat_minor": 5
}
