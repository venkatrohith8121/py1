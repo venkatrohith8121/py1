{
 "cells": [
  {
   "cell_type": "code",
   "execution_count": 2,
   "id": "3a16838a",
   "metadata": {},
   "outputs": [
    {
     "name": "stdout",
     "output_type": "stream",
     "text": [
      "{'id': 1, 'name': 'rahul gandhi', 'sal': 45000}\n",
      "{'id': 1, 'name': 'rahul gandhi'}\n"
     ]
    }
   ],
   "source": [
    "emp={'id':1,\n",
    "    'name':'rahul gandhi',\n",
    "    'sal':45000\n",
    "    }\n",
    "user={}\n",
    "user['id']=emp['id']\n",
    "user['name']=emp['name']\n",
    "print(emp)\n",
    "print(user)"
   ]
  },
  {
   "cell_type": "code",
   "execution_count": 5,
   "id": "08e56c0b",
   "metadata": {},
   "outputs": [
    {
     "name": "stdout",
     "output_type": "stream",
     "text": [
      "[{'id': 1, 'name': 'rahul gandhi'}, {'id': 1, 'name': 'rahul gandhi'}, {'id': 1, 'name': 'rahul gandhi'}]\n"
     ]
    }
   ],
   "source": [
    "emp={'id':1,\n",
    "    'name':'rahul gandhi',\n",
    "    'sal':45000\n",
    "    }\n",
    "new_emp_data=[]\n",
    "for em in emp:\n",
    "    user={}\n",
    "    user['id']=emp['id']\n",
    "    user['name']=emp['name']\n",
    "    new_emp_data.append(user)\n",
    "    \n",
    "print(new_emp_data)\n",
    "    "
   ]
  },
  {
   "cell_type": "code",
   "execution_count": null,
   "id": "b15da4af",
   "metadata": {},
   "outputs": [],
   "source": []
  }
 ],
 "metadata": {
  "kernelspec": {
   "display_name": "Python 3 (ipykernel)",
   "language": "python",
   "name": "python3"
  },
  "language_info": {
   "codemirror_mode": {
    "name": "ipython",
    "version": 3
   },
   "file_extension": ".py",
   "mimetype": "text/x-python",
   "name": "python",
   "nbconvert_exporter": "python",
   "pygments_lexer": "ipython3",
   "version": "3.7.6"
  }
 },
 "nbformat": 4,
 "nbformat_minor": 5
}
