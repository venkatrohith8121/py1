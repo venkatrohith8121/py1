{
 "cells": [
  {
   "cell_type": "code",
   "execution_count": 1,
   "id": "16a25677",
   "metadata": {},
   "outputs": [
    {
     "name": "stdout",
     "output_type": "stream",
     "text": [
      "<class 'dict'>\n"
     ]
    }
   ],
   "source": [
    "s1={}\n",
    "print(type(s1))"
   ]
  },
  {
   "cell_type": "code",
   "execution_count": 2,
   "id": "71471e19",
   "metadata": {},
   "outputs": [
    {
     "name": "stdout",
     "output_type": "stream",
     "text": [
      "<class 'set'>\n"
     ]
    }
   ],
   "source": [
    "s1={10,20}\n",
    "print(type(s1))"
   ]
  },
  {
   "cell_type": "code",
   "execution_count": 5,
   "id": "21476d4b",
   "metadata": {},
   "outputs": [
    {
     "name": "stdout",
     "output_type": "stream",
     "text": [
      "{40, 10, 80, 50, 20, 120, 30}\n"
     ]
    }
   ],
   "source": [
    "s1={10,20,10,10,20,20,120,20,40,50,20,80,80,10,20,30,30}\n",
    "print(s1)"
   ]
  },
  {
   "cell_type": "code",
   "execution_count": 6,
   "id": "7b287ab3",
   "metadata": {},
   "outputs": [
    {
     "name": "stdout",
     "output_type": "stream",
     "text": [
      "101\n",
      "102\n",
      "103\n",
      "104\n",
      "105\n"
     ]
    }
   ],
   "source": [
    "eids={101,102,103,104,105}\n",
    "for eids in eids:\n",
    "    print(eids)"
   ]
  },
  {
   "cell_type": "code",
   "execution_count": 10,
   "id": "c3580706",
   "metadata": {},
   "outputs": [
    {
     "name": "stdout",
     "output_type": "stream",
     "text": [
      "{101, 102, 103, 104, 105, 106}\n"
     ]
    }
   ],
   "source": [
    "eids={101,102,103,104,105}\n",
    "eids.add(106)\n",
    "#by add method we can add only one element\n",
    "print(eids)"
   ]
  },
  {
   "cell_type": "code",
   "execution_count": 12,
   "id": "27fae967",
   "metadata": {},
   "outputs": [
    {
     "name": "stdout",
     "output_type": "stream",
     "text": [
      "{101, 102, 103, 104, 105, 106, 107, 108, 109, 110}\n"
     ]
    }
   ],
   "source": [
    "eids={101,102,103,104,105}\n",
    "eids2={106,107,108,109,110}\n",
    "eids.update(eids2)\n",
    "#by using update method we can only add the sequence not the single entinty\n",
    "print(eids)"
   ]
  },
  {
   "cell_type": "code",
   "execution_count": 14,
   "id": "abd72a89",
   "metadata": {},
   "outputs": [
    {
     "name": "stdout",
     "output_type": "stream",
     "text": [
      "{1, 2, 3, 4, 5, 'rahul'}\n"
     ]
    }
   ],
   "source": [
    "s1={1,2,3,4,5}\n",
    "s2={'rahul'}\n",
    "s1.update(s2)\n",
    "print(s1)"
   ]
  },
  {
   "cell_type": "code",
   "execution_count": 17,
   "id": "e66d7f02",
   "metadata": {},
   "outputs": [
    {
     "name": "stdout",
     "output_type": "stream",
     "text": [
      "{1, 2, 3, 4, 5, 6, 'a', 'u', 'l', 'h', 'r'}\n"
     ]
    }
   ],
   "source": [
    "s1={1,2,3,4,6,5}\n",
    "s1.update('rahul')\n",
    "print(s1)"
   ]
  },
  {
   "cell_type": "code",
   "execution_count": null,
   "id": "adb8f0af",
   "metadata": {},
   "outputs": [],
   "source": []
  }
 ],
 "metadata": {
  "kernelspec": {
   "display_name": "Python 3 (ipykernel)",
   "language": "python",
   "name": "python3"
  },
  "language_info": {
   "codemirror_mode": {
    "name": "ipython",
    "version": 3
   },
   "file_extension": ".py",
   "mimetype": "text/x-python",
   "name": "python",
   "nbconvert_exporter": "python",
   "pygments_lexer": "ipython3",
   "version": "3.7.6"
  }
 },
 "nbformat": 4,
 "nbformat_minor": 5
}
